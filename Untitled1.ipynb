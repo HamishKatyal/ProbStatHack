{
  "cells": [
    {
      "cell_type": "markdown",
      "metadata": {
        "id": "view-in-github",
        "colab_type": "text"
      },
      "source": [
        "<a href=\"https://colab.research.google.com/github/HamishKatyal/ProbStatHack/blob/main/Untitled1.ipynb\" target=\"_parent\"><img src=\"https://colab.research.google.com/assets/colab-badge.svg\" alt=\"Open In Colab\"/></a>"
      ]
    },
    {
      "cell_type": "code",
      "execution_count": null,
      "metadata": {
        "id": "Pxj4tW_bIw6v"
      },
      "outputs": [],
      "source": [
        "from google.colab import files\n",
        "import io"
      ]
    },
    {
      "cell_type": "code",
      "execution_count": null,
      "metadata": {
        "id": "Hle3ooMdkiHv"
      },
      "outputs": [],
      "source": [
        "from flask import Flask, render_template, request, redirect, url_for\n",
        "from keras.models import load_model\n",
        "import numpy as np\n",
        "from keras.preprocessing import image\n",
        "import requests\n",
        "from datetime import datetime\n",
        "\n",
        "app = Flask('_name_')\n",
        "\n",
        "covid_model_evaluated = False\n",
        "covid_model_result = \"\"\n",
        "pneumonia_model_evaluated = False\n",
        "pneumonia_model_result = \"\"\n",
        "model_covid = load_model('/content/covid_model.h5')\n",
        "model_pneumonia = load_model('/content/pneumonia_model.h5')\n",
        "\n",
        "@app.route('/')\n",
        "def home():\n",
        "    global covid_model_evaluated, pneumonia_model_evaluated\n",
        "    covid_model_evaluated = False\n",
        "    pneumonia_model_evaluated = False\n",
        "    return render_template('home.html')\n",
        "\n",
        "\n",
        "@app.route(\"/covid_detector\", methods = ['POST', 'GET'])\n",
        "def covid_detector():\n",
        "    global covid_model_evaluated, covid_model_result\n",
        "    return render_template('covid_detector.html', model_result=covid_model_result,\n",
        "     model_evaluated=covid_model_evaluated)\n",
        "\n",
        "\n",
        "@app.route(\"/pneumonia_detector\", methods = ['POST', 'GET'])\n",
        "def pneumonia_detector():\n",
        "    global pneumonia_model_evaluated, pneumonia_model_result\n",
        "    print(pneumonia_model_evaluated)\n",
        "    return render_template('pneumonia_detector.html',\n",
        "     model_result=pneumonia_model_result,\n",
        "      model_evaluated=pneumonia_model_evaluated)\n",
        "\n",
        "\n",
        "@app.route(\"/prediction_covid\", methods = ['POST', 'GET'])\n",
        "def prediction_covid():\n",
        "    img = request.files['img']\n",
        "    img.save('./static/images/img.png')\n",
        "\n",
        "    input_image= image.load_img('./static/images/img.png', target_size = (200, 200))\n",
        "    input_image = image.img_to_array(input_image)\n",
        "    input_image = np.expand_dims(input_image, axis = 0)\n",
        "    result = model_covid.predict(input_image)\n",
        "    global covid_model_result\n",
        "    if result[0][0] == 1:\n",
        "        covid_model_result = 'Healthy'\n",
        "    else:\n",
        "        covid_model_result = 'Covid Positive'\n",
        "    global covid_model_evaluated\n",
        "    covid_model_evaluated = True\n",
        "    return redirect(url_for('covid_detector'))\n",
        "\n",
        "@app.route(\"/prediction_pneumonia\", methods = ['POST', 'GET'])\n",
        "def prediction_pneumonia():\n",
        "    img = request.files['img']\n",
        "    img.save('./static/images/img.png')\n",
        "\n",
        "    input_image= image.load_img('./static/images/img.png', target_size = (200, 200))\n",
        "    input_image = image.img_to_array(input_image)\n",
        "    input_image = np.expand_dims(input_image, axis = 0)\n",
        "    result = model_pneumonia.predict(input_image)\n",
        "    global pneumonia_model_evaluated, pneumonia_model_result\n",
        "    if result[0][0] == 1:\n",
        "        pneumonia_model_result = 'Pneumonia'\n",
        "    else:\n",
        "        pneumonia_model_result = 'Healthy'\n",
        "    pneumonia_model_evaluated=True\n",
        "    return redirect(url_for('pneumonia_detector'))\n",
        "\n",
        "@app.route(\"/covid_tracker\", methods=[\"GET\"])\n",
        "def covid_tracker():\n",
        "    fetched_data = requests.get('https://disease.sh/v3/covid-19/gov/India')\n",
        "    data_json = fetched_data.json()\n",
        "    date_today = datetime.today().strftime('%Y-%m-%d')\n",
        "    vaccine_data = requests.get('https://api.cowin.gov.in/api/v1/reports/v2/getPublicReports?state_id=&district_id=&date=' \n",
        "    + date_today)\n",
        "    vaccine_json = vaccine_data.json()\n",
        "    return render_template('covid_tracker.html', india_data=data_json,\n",
        "     vaccination=vaccine_json['topBlock']['vaccination'])\n",
        "    \n",
        "\n",
        "if '_name_' == \"_main_\":\n",
        "    app.run(debug = True)"
      ]
    },
    {
      "cell_type": "code",
      "source": [],
      "metadata": {
        "id": "taJd3_f7xM7p"
      },
      "execution_count": null,
      "outputs": []
    }
  ],
  "metadata": {
    "colab": {
      "provenance": [],
      "collapsed_sections": [],
      "authorship_tag": "ABX9TyO0mKZpUZ+8B+YarYwP4c5e",
      "include_colab_link": true
    },
    "kernelspec": {
      "display_name": "Python 3",
      "name": "python3"
    },
    "language_info": {
      "name": "python"
    }
  },
  "nbformat": 4,
  "nbformat_minor": 0
}